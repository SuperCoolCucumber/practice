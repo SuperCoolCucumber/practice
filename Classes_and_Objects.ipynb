{
  "nbformat": 4,
  "nbformat_minor": 0,
  "metadata": {
    "colab": {
      "name": "Classes and Objects.ipynb",
      "provenance": [],
      "authorship_tag": "ABX9TyNbqnEwXtpln1AOoUc9teoF",
      "include_colab_link": true
    },
    "kernelspec": {
      "name": "python3",
      "display_name": "Python 3"
    },
    "language_info": {
      "name": "python"
    }
  },
  "cells": [
    {
      "cell_type": "markdown",
      "metadata": {
        "id": "view-in-github",
        "colab_type": "text"
      },
      "source": [
        "<a href=\"https://colab.research.google.com/github/SuperCoolCucumber/practice/blob/main/Classes_and_Objects.ipynb\" target=\"_parent\"><img src=\"https://colab.research.google.com/assets/colab-badge.svg\" alt=\"Open In Colab\"/></a>"
      ]
    },
    {
      "cell_type": "code",
      "metadata": {
        "colab": {
          "base_uri": "https://localhost:8080/"
        },
        "id": "Xlg2hEZMHu0X",
        "outputId": "57e8d6c7-507e-42de-a46e-c8490ce7acfc"
      },
      "source": [
        "class NumberSet:\n",
        "    def __init__(self, num1, num2):\n",
        "        self.num1 = num1\n",
        "        self.num2 = num2\n",
        "        \n",
        "t = NumberSet(6, 10)\n",
        "print(t)"
      ],
      "execution_count": 3,
      "outputs": [
        {
          "output_type": "stream",
          "name": "stdout",
          "text": [
            "<__main__.NumberSet object at 0x7fd19490a5d0>\n"
          ]
        }
      ]
    },
    {
      "cell_type": "code",
      "metadata": {
        "colab": {
          "base_uri": "https://localhost:8080/"
        },
        "id": "n3n7Px_FHm37",
        "outputId": "fd455a91-41dc-4e27-f051-0b226c78af26"
      },
      "source": [
        "class Animal:\n",
        "    def __init__(self, arms, legs):\n",
        "        self.arms = arms\n",
        "        self.legs = legs\n",
        "           \n",
        "    def limbs(self):\n",
        "        return (self.arms + self.legs)\n",
        "\n",
        "spider = Animal(4, 4)\n",
        "spidlimbs = spider.limbs()\n",
        "print(spidlimbs)"
      ],
      "execution_count": 2,
      "outputs": [
        {
          "output_type": "stream",
          "name": "stdout",
          "text": [
            "8\n"
          ]
        }
      ]
    },
    {
      "cell_type": "code",
      "metadata": {
        "colab": {
          "base_uri": "https://localhost:8080/"
        },
        "id": "1x1gpJtxHCHV",
        "outputId": "78b14a9c-5d82-4a6a-8f9b-a0923b3d3a4e"
      },
      "source": [
        "#converting an object to a string\n",
        "class Cereal:\n",
        "    def __init__(self, name, brand, fiber):\n",
        "      # the constuctor\n",
        "        self.name = name\n",
        "        self.brand = brand\n",
        "        self.fiber = fiber\n",
        "\n",
        "    def __str__(self):\n",
        "      # how we respresent any instance as a string\n",
        "        return \"{} cereal is produced by {} and has {} grams of fiber in every serving!\".format(self.name, self.brand, self.fiber)\n",
        "\n",
        "c1 = Cereal(\"Corn Flakes\", \"Kellogg's\", 2)\n",
        "print(c1)\n",
        "c2 = Cereal(\"Honey Nut Cheerios\", \"General Mills\", 3)\n",
        "print(c2)"
      ],
      "execution_count": 1,
      "outputs": [
        {
          "output_type": "stream",
          "name": "stdout",
          "text": [
            "Corn Flakes cereal is produced by Kellogg's and has 2 grams of fiber in every serving!\n",
            "Honey Nut Cheerios cereal is produced by General Mills and has 3 grams of fiber in every serving!\n"
          ]
        }
      ]
    },
    {
      "cell_type": "code",
      "metadata": {
        "colab": {
          "base_uri": "https://localhost:8080/"
        },
        "id": "b1JWOcLyHcx7",
        "outputId": "c8a3f5ff-6957-464f-f96e-4943a6e5b515"
      },
      "source": [
        "class Bike:\n",
        "    def __init__(self, color, price):\n",
        "        self.color = color\n",
        "        self.price = price\n",
        "\n",
        "    def __str__(self):\n",
        "      return \"{}, {}\".format(self.color, self.price)\n",
        "    \n",
        "testOne = Bike(\"blue\", 89.99)\n",
        "testTwo = Bike(\"purple\", 25.0)\n",
        "print(testOne, testTwo)"
      ],
      "execution_count": 5,
      "outputs": [
        {
          "output_type": "stream",
          "name": "stdout",
          "text": [
            "blue, 89.99 purple, 25.0\n"
          ]
        }
      ]
    },
    {
      "cell_type": "code",
      "metadata": {
        "id": "PwByfh5TrKfX"
      },
      "source": [
        ""
      ],
      "execution_count": null,
      "outputs": []
    }
  ]
}