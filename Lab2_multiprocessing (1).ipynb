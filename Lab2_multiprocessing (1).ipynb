{
 "cells": [
  {
   "cell_type": "code",
   "execution_count": 1,
   "id": "b5915ad8",
   "metadata": {},
   "outputs": [],
   "source": [
    "import numpy as np\n",
    "import joblib\n",
    "from joblib import Parallel, delayed"
   ]
  },
  {
   "cell_type": "code",
   "execution_count": 3,
   "id": "0a2927d3",
   "metadata": {},
   "outputs": [
    {
     "data": {
      "text/plain": [
       "12"
      ]
     },
     "execution_count": 3,
     "metadata": {},
     "output_type": "execute_result"
    }
   ],
   "source": [
    "joblib.cpu_count()"
   ]
  },
  {
   "cell_type": "code",
   "execution_count": 38,
   "id": "b680f1da",
   "metadata": {},
   "outputs": [],
   "source": [
    "# parallelize a for loop that counts how many even numbers exist in an array\n",
    "\n",
    "# given an array, count how many even numbers are present in the array (n) and return a list containing n elements"
   ]
  },
  {
   "cell_type": "code",
   "execution_count": 73,
   "id": "f7ff1f6a",
   "metadata": {},
   "outputs": [
    {
     "data": {
      "text/plain": [
       "array([1, 7, 5, 2, 8, 0, 4, 6, 0, 1])"
      ]
     },
     "execution_count": 73,
     "metadata": {},
     "output_type": "execute_result"
    }
   ],
   "source": [
    "a = np.random.randint(10, size=10)\n",
    "a"
   ]
  },
  {
   "cell_type": "code",
   "execution_count": 2,
   "id": "b05f4d2e",
   "metadata": {},
   "outputs": [],
   "source": [
    "def even_numbers(array):\n",
    "    count = 0\n",
    "    for number in array:\n",
    "        if number % 2 == 0:\n",
    "            count += 1\n",
    "    return count"
   ]
  },
  {
   "cell_type": "code",
   "execution_count": 75,
   "id": "94ad4e4b",
   "metadata": {
    "scrolled": true
   },
   "outputs": [
    {
     "name": "stdout",
     "output_type": "stream",
     "text": [
      "CPU times: user 17 µs, sys: 0 ns, total: 17 µs\n",
      "Wall time: 19.1 µs\n"
     ]
    }
   ],
   "source": [
    "%%time\n",
    "\n",
    "result = [k for k in [even_numbers(a)] for i in range(even_numbers(a))]"
   ]
  },
  {
   "cell_type": "code",
   "execution_count": 76,
   "id": "9275a142",
   "metadata": {
    "scrolled": true
   },
   "outputs": [
    {
     "data": {
      "text/plain": [
       "[6, 6, 6, 6, 6, 6]"
      ]
     },
     "execution_count": 76,
     "metadata": {},
     "output_type": "execute_result"
    }
   ],
   "source": [
    "result"
   ]
  },
  {
   "cell_type": "code",
   "execution_count": 78,
   "id": "8b1f8fbc",
   "metadata": {
    "scrolled": false
   },
   "outputs": [
    {
     "name": "stdout",
     "output_type": "stream",
     "text": [
      "CPU times: user 73.6 ms, sys: 0 ns, total: 73.6 ms\n",
      "Wall time: 196 ms\n"
     ]
    },
    {
     "data": {
      "text/plain": [
       "[6, 6, 6, 6, 6, 6]"
      ]
     },
     "execution_count": 78,
     "metadata": {},
     "output_type": "execute_result"
    }
   ],
   "source": [
    "%%time\n",
    "\n",
    "Parallel(n_jobs=-1)(delayed(even_numbers)(a) for i in range(even_numbers(a)))"
   ]
  },
  {
   "cell_type": "markdown",
   "id": "b934fcb7",
   "metadata": {},
   "source": [
    "[Shared Memory Semantics](https://joblib.readthedocs.io/en/latest/parallel.html#shared-memory-semantics)"
   ]
  },
  {
   "cell_type": "code",
   "execution_count": 79,
   "id": "27d5767d",
   "metadata": {
    "scrolled": false
   },
   "outputs": [
    {
     "name": "stdout",
     "output_type": "stream",
     "text": [
      "CPU times: user 6.34 ms, sys: 0 ns, total: 6.34 ms\n",
      "Wall time: 4.28 ms\n"
     ]
    },
    {
     "data": {
      "text/plain": [
       "[6, 6, 6, 6, 6, 6]"
      ]
     },
     "execution_count": 79,
     "metadata": {},
     "output_type": "execute_result"
    }
   ],
   "source": [
    "%%time\n",
    "\n",
    "Parallel(n_jobs=-1, require='sharedmem')(delayed(even_numbers)(a) for i in range(even_numbers(a)))"
   ]
  },
  {
   "cell_type": "code",
   "execution_count": null,
   "id": "e6d0e028",
   "metadata": {},
   "outputs": [],
   "source": []
  },
  {
   "cell_type": "code",
   "execution_count": null,
   "id": "094717a5",
   "metadata": {},
   "outputs": [],
   "source": []
  },
  {
   "cell_type": "code",
   "execution_count": null,
   "id": "74537881",
   "metadata": {},
   "outputs": [],
   "source": []
  },
  {
   "cell_type": "code",
   "execution_count": 21,
   "id": "1642a155",
   "metadata": {},
   "outputs": [],
   "source": [
    "from multiprocessing import Pool, Process, Queue"
   ]
  },
  {
   "cell_type": "code",
   "execution_count": 33,
   "id": "c2a02357",
   "metadata": {},
   "outputs": [
    {
     "name": "stdout",
     "output_type": "stream",
     "text": [
      "CPU times: user 18 ms, sys: 52.9 ms, total: 70.9 ms\n",
      "Wall time: 73.6 ms\n"
     ]
    }
   ],
   "source": [
    "%%time\n",
    "with Pool() as pool:\n",
    "    results = pool.map(even_numbers, [np.random.randint(10, size=10) for _ in range(100)])"
   ]
  },
  {
   "cell_type": "code",
   "execution_count": 34,
   "id": "a75914f9",
   "metadata": {
    "scrolled": true
   },
   "outputs": [
    {
     "name": "stdout",
     "output_type": "stream",
     "text": [
      "CPU times: user 8.06 ms, sys: 4.06 ms, total: 12.1 ms\n",
      "Wall time: 9.81 ms\n"
     ]
    }
   ],
   "source": [
    "%%time\n",
    "results = list(map(even_numbers, [np.random.randint(10, size=10) for _ in range(100)]))"
   ]
  },
  {
   "cell_type": "code",
   "execution_count": 24,
   "id": "ccb9394d",
   "metadata": {},
   "outputs": [],
   "source": [
    "def even_numbers_(in_queue, out_queue):\n",
    "    my_list = in_queue.get()\n",
    "    count = 0\n",
    "    for item in my_list:\n",
    "        if item % 2 == 0:\n",
    "            count += 1\n",
    "    \n",
    "    out_queue.put(count)\n"
   ]
  },
  {
   "cell_type": "code",
   "execution_count": 25,
   "id": "4583f76e",
   "metadata": {},
   "outputs": [],
   "source": [
    "in_queue = Queue()\n",
    "for _ in range(100):  \n",
    "    in_queue.put(np.random.randint(10, size=10))\n",
    "\n",
    "out_queue = Queue() \n"
   ]
  },
  {
   "cell_type": "code",
   "execution_count": 26,
   "id": "7b8601ad",
   "metadata": {},
   "outputs": [],
   "source": [
    "processes = []\n",
    "for _ in range(in_queue.qsize()):\n",
    "    processes.append(\n",
    "        Process(target=even_numbers_, args=(in_queue, out_queue))\n",
    "    )"
   ]
  },
  {
   "cell_type": "code",
   "execution_count": 27,
   "id": "c0b340fd",
   "metadata": {},
   "outputs": [
    {
     "name": "stdout",
     "output_type": "stream",
     "text": [
      "CPU times: user 70.1 ms, sys: 145 ms, total: 215 ms\n",
      "Wall time: 208 ms\n"
     ]
    }
   ],
   "source": [
    "%%time\n",
    "for process in processes:\n",
    "    process.start()\n",
    "\n",
    "for process in processes:\n",
    "    process.join()\n",
    "\n",
    "for process in processes:\n",
    "    process.close()"
   ]
  },
  {
   "cell_type": "code",
   "execution_count": 28,
   "id": "3b49cd82",
   "metadata": {},
   "outputs": [
    {
     "name": "stdout",
     "output_type": "stream",
     "text": [
      "CPU times: user 3.4 ms, sys: 37 µs, total: 3.44 ms\n",
      "Wall time: 1.79 ms\n"
     ]
    }
   ],
   "source": [
    "results = [out_queue.get() for _ in range(out_queue.qsize())]"
   ]
  },
  {
   "cell_type": "code",
   "execution_count": 36,
   "id": "fbf7e8cd",
   "metadata": {},
   "outputs": [
    {
     "data": {
      "text/plain": [
       "100"
      ]
     },
     "execution_count": 36,
     "metadata": {},
     "output_type": "execute_result"
    }
   ],
   "source": [
    "len(results)"
   ]
  },
  {
   "cell_type": "code",
   "execution_count": null,
   "id": "6a19245e",
   "metadata": {},
   "outputs": [],
   "source": []
  }
 ],
 "metadata": {
  "kernelspec": {
   "display_name": "Python 3 (ipykernel)",
   "language": "python",
   "name": "python3"
  },
  "language_info": {
   "codemirror_mode": {
    "name": "ipython",
    "version": 3
   },
   "file_extension": ".py",
   "mimetype": "text/x-python",
   "name": "python",
   "nbconvert_exporter": "python",
   "pygments_lexer": "ipython3",
   "version": "3.10.4"
  }
 },
 "nbformat": 4,
 "nbformat_minor": 5
}
