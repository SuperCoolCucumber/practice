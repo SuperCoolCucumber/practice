{
 "cells": [
  {
   "cell_type": "code",
   "execution_count": 1,
   "id": "f0da31d8",
   "metadata": {},
   "outputs": [],
   "source": [
    "class DFSA:\n",
    "    def __init__(self):\n",
    "        self.states = 0\n",
    "        self.transitions = {}\n",
    "        self.final = []\n",
    "        self.symbols = {}\n",
    "    def numStates(self):\n",
    "        return(self.states + 1)\n",
    "    def finalStates(self):\n",
    "        return(self.final.copy())\n",
    "    def addState(self):\n",
    "        self.states = self.states + 1\n",
    "    def makeFinal(self,i):\n",
    "        assert i <= self.states\n",
    "        if not i in self.final:\n",
    "            self.final.append(i)\n",
    "    def addTransition(self,fromState,toState,symbol):\n",
    "        assert fromState <= self.states\n",
    "        assert toState <= self.states\n",
    "        self.symbols[symbol] = True\n",
    "        self.transitions[ (fromState,symbol) ] = toState\n",
    "    def printAutomaton(self):\n",
    "        for i in range(self.states+1):\n",
    "            for symbol in self.symbols.keys():\n",
    "                if (i,symbol) in self.transitions.keys():\n",
    "                    j = self.transitions[ (i,symbol) ]\n",
    "                    print(\"\\t\".join([str(i),symbol,str(j)]))"
   ]
  },
  {
   "cell_type": "code",
   "execution_count": 2,
   "id": "88398d1c",
   "metadata": {},
   "outputs": [
    {
     "name": "stdout",
     "output_type": "stream",
     "text": [
      "0\ta\t1\n",
      "1\tb\t2\n",
      "2\tc\t2\n"
     ]
    }
   ],
   "source": [
    "x = DFSA()\n",
    "x.addState()\n",
    "x.addState()\n",
    "x.makeFinal(2)\n",
    "x.addTransition(0,1,\"a\")\n",
    "x.addTransition(1,2,\"b\")\n",
    "x.addTransition(2,2,\"c\")\n",
    "x.printAutomaton()"
   ]
  },
  {
   "cell_type": "code",
   "execution_count": null,
   "id": "e4f69870",
   "metadata": {},
   "outputs": [],
   "source": []
  },
  {
   "cell_type": "code",
   "execution_count": null,
   "id": "f1f7b3f1",
   "metadata": {},
   "outputs": [],
   "source": []
  },
  {
   "cell_type": "code",
   "execution_count": null,
   "id": "4ddd5011",
   "metadata": {},
   "outputs": [],
   "source": []
  },
  {
   "cell_type": "code",
   "execution_count": 4,
   "id": "35035756",
   "metadata": {},
   "outputs": [],
   "source": [
    "from greenery import lego, fsm"
   ]
  },
  {
   "cell_type": "code",
   "execution_count": 12,
   "id": "8bfb1f75",
   "metadata": {},
   "outputs": [],
   "source": [
    "lego1 = lego.parse('ab|c')"
   ]
  },
  {
   "cell_type": "code",
   "execution_count": 14,
   "id": "69b1a565",
   "metadata": {},
   "outputs": [
    {
     "data": {
      "text/plain": [
       "pattern(conc(mult(charclass('c'), multiplier(bound(1), bound(1)))), conc(mult(charclass('a'), multiplier(bound(1), bound(1))), mult(charclass('b'), multiplier(bound(1), bound(1)))))"
      ]
     },
     "execution_count": 14,
     "metadata": {},
     "output_type": "execute_result"
    }
   ],
   "source": [
    "lego1"
   ]
  },
  {
   "cell_type": "code",
   "execution_count": 13,
   "id": "c794e73d",
   "metadata": {},
   "outputs": [
    {
     "data": {
      "text/plain": [
       "fsm(alphabet = {'c', 'b', '9bd74361-04f9-4742-9d3a-1d14a6f0044c', 'a'}, states = {0, 1, 2}, initial = 0, finals = {2}, map = {0: {'a': 1, 'c': 2}, 1: {'b': 2}, 2: {}})"
      ]
     },
     "execution_count": 13,
     "metadata": {},
     "output_type": "execute_result"
    }
   ],
   "source": [
    "lego1.to_fsm()"
   ]
  },
  {
   "cell_type": "code",
   "execution_count": 15,
   "id": "6cd69998",
   "metadata": {},
   "outputs": [
    {
     "data": {
      "text/plain": [
       "False"
      ]
     },
     "execution_count": 15,
     "metadata": {},
     "output_type": "execute_result"
    }
   ],
   "source": [
    "lego1.matches('aa')"
   ]
  },
  {
   "cell_type": "code",
   "execution_count": 16,
   "id": "71cb4451",
   "metadata": {},
   "outputs": [
    {
     "data": {
      "text/plain": [
       "True"
      ]
     },
     "execution_count": 16,
     "metadata": {},
     "output_type": "execute_result"
    }
   ],
   "source": [
    "lego1.matches('c')"
   ]
  },
  {
   "cell_type": "code",
   "execution_count": null,
   "id": "293424df",
   "metadata": {},
   "outputs": [],
   "source": []
  },
  {
   "cell_type": "code",
   "execution_count": null,
   "id": "d657cf29",
   "metadata": {},
   "outputs": [],
   "source": []
  }
 ],
 "metadata": {
  "kernelspec": {
   "display_name": "Python 3 (ipykernel)",
   "language": "python",
   "name": "python3"
  },
  "language_info": {
   "codemirror_mode": {
    "name": "ipython",
    "version": 3
   },
   "file_extension": ".py",
   "mimetype": "text/x-python",
   "name": "python",
   "nbconvert_exporter": "python",
   "pygments_lexer": "ipython3",
   "version": "3.10.4"
  }
 },
 "nbformat": 4,
 "nbformat_minor": 5
}
