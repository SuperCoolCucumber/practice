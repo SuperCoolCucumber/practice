{
  "nbformat": 4,
  "nbformat_minor": 0,
  "metadata": {
    "colab": {
      "name": "FM HW1.ipynb",
      "provenance": [],
      "authorship_tag": "ABX9TyPfeaOQ5QCwOVfWJNMjvsIB",
      "include_colab_link": true
    },
    "kernelspec": {
      "name": "python3",
      "display_name": "Python 3"
    },
    "language_info": {
      "name": "python"
    }
  },
  "cells": [
    {
      "cell_type": "markdown",
      "metadata": {
        "id": "view-in-github",
        "colab_type": "text"
      },
      "source": [
        "<a href=\"https://colab.research.google.com/github/SuperCoolCucumber/practice/blob/main/FM_HW1.ipynb\" target=\"_parent\"><img src=\"https://colab.research.google.com/assets/colab-badge.svg\" alt=\"Open In Colab\"/></a>"
      ]
    },
    {
      "cell_type": "markdown",
      "metadata": {
        "id": "Ng67xqEn0vSO"
      },
      "source": [
        "The chosen expressive *damn* is:\n",
        "\n",
        "\n",
        "*   Independent (it has some connotative meaning that adds extra to the regular descriptive attributes, as in *the music was pretty damn good too*) \n",
        "*   Nondisplaceable (it asserts that the person who produced the utterance is feeling something extreme, as in *it will remain stuck in my damn cartrage slot of my forgotten n64* - the user liked tha game so much they would like it to stay stuck in their gaming console)\n",
        "*   Perspectively dependent (it can vary its meaning from extremely good, as in *it's so  damn fun*, to extremely bad, as in *you just don't give a damn about playing it again*)\n",
        "*   Descriptively ineffable (the emotional content of *the music is damn awesome* is not the same as *the music is awesome*, as *damn* intensifies the adjective right next to it)\n",
        "* Immediate (in *every game can't be perfect but this game comes damn close* the word *damn* does not offer any meaningful content so much as inflict it)\n",
        "\n",
        "Hence, *damn* is an expressive.\n",
        "\n",
        "The type of profile that could be assumed for this expressive is U-shaped, since *damn* is extensively used in both bad (*I don't recommend this for any god damn gamer*, *The graphics are pretty damn ugly*) and good (*Goddamn I love this game*, *I'll be damned if I've never enjoyed reading and playing a video game more than I did with Torment*) reviews.\n"
      ]
    },
    {
      "cell_type": "code",
      "metadata": {
        "id": "c-Qu-PlFzvLH"
      },
      "source": [
        "import numpy as np\n",
        "import pandas as pd\n",
        "import matplotlib.pyplot as plt\n",
        "import json\n",
        "import sklearn\n",
        "from sklearn import feature_extraction\n",
        "from collections import defaultdict\n",
        "from sklearn.preprocessing import PolynomialFeatures\n",
        "from sklearn.pipeline import make_pipeline\n",
        "from sklearn.linear_model import Ridge"
      ],
      "execution_count": 1,
      "outputs": []
    },
    {
      "cell_type": "code",
      "metadata": {
        "colab": {
          "base_uri": "https://localhost:8080/"
        },
        "id": "SbhJRM9Dz1C7",
        "outputId": "0497bef7-3c5f-4cfe-b05c-c9443e720305"
      },
      "source": [
        "!wget http://deepyeti.ucsd.edu/jianmo/amazon/categoryFilesSmall/Video_Games_5.json.gz"
      ],
      "execution_count": 2,
      "outputs": [
        {
          "output_type": "stream",
          "name": "stdout",
          "text": [
            "--2021-10-11 20:59:33--  http://deepyeti.ucsd.edu/jianmo/amazon/categoryFilesSmall/Video_Games_5.json.gz\n",
            "Resolving deepyeti.ucsd.edu (deepyeti.ucsd.edu)... 169.228.63.50\n",
            "Connecting to deepyeti.ucsd.edu (deepyeti.ucsd.edu)|169.228.63.50|:80... connected.\n",
            "HTTP request sent, awaiting response... 200 OK\n",
            "Length: 154050105 (147M) [application/octet-stream]\n",
            "Saving to: ‘Video_Games_5.json.gz.2’\n",
            "\n",
            "Video_Games_5.json. 100%[===================>] 146.91M  71.3MB/s    in 2.1s    \n",
            "\n",
            "2021-10-11 20:59:35 (71.3 MB/s) - ‘Video_Games_5.json.gz.2’ saved [154050105/154050105]\n",
            "\n"
          ]
        }
      ]
    },
    {
      "cell_type": "code",
      "metadata": {
        "id": "b1wPl4i70Rpd"
      },
      "source": [
        "data = pd.read_json('/content/Video_Games_5.json.gz', lines=True)"
      ],
      "execution_count": 3,
      "outputs": []
    },
    {
      "cell_type": "code",
      "metadata": {
        "id": "olPP5Bn11A_l"
      },
      "source": [
        "# taking 20,000 samples from the dataset \n",
        "\n",
        "text = data[['overall', 'reviewText']].sample(20000).dropna().reset_index()"
      ],
      "execution_count": 4,
      "outputs": []
    },
    {
      "cell_type": "code",
      "metadata": {
        "id": "L9Y5mDUW1i3J"
      },
      "source": [
        "vect = sklearn.feature_extraction.text.CountVectorizer()"
      ],
      "execution_count": 5,
      "outputs": []
    },
    {
      "cell_type": "code",
      "metadata": {
        "id": "xQjAZM1t3BXD"
      },
      "source": [
        "X = vect.fit_transform(text['reviewText'].values)"
      ],
      "execution_count": 6,
      "outputs": []
    },
    {
      "cell_type": "code",
      "metadata": {
        "id": "w6BSWcXx3bWJ"
      },
      "source": [
        "# matching and filtering the occurences of the word damn\n",
        "\n",
        "tokens = [(i, item) for i, item in enumerate(vect.get_feature_names()) if 'damn' in item.lower()]"
      ],
      "execution_count": 7,
      "outputs": []
    },
    {
      "cell_type": "code",
      "metadata": {
        "colab": {
          "base_uri": "https://localhost:8080/"
        },
        "id": "KiqVCe_H3qcO",
        "outputId": "70edfc06-9c89-4900-8b60-9bd61c69c566"
      },
      "source": [
        "tokens"
      ],
      "execution_count": 8,
      "outputs": [
        {
          "output_type": "execute_result",
          "data": {
            "text/plain": [
              "[(9658, 'damn'),\n",
              " (9659, 'damnation'),\n",
              " (9660, 'damned'),\n",
              " (9661, 'damnit'),\n",
              " (9662, 'damnright'),\n",
              " (16223, 'goddamned')]"
            ]
          },
          "metadata": {},
          "execution_count": 8
        }
      ]
    },
    {
      "cell_type": "code",
      "metadata": {
        "id": "eM5HvxEN-PZs"
      },
      "source": [
        "token_array = X.toarray()\n"
      ],
      "execution_count": 9,
      "outputs": []
    },
    {
      "cell_type": "code",
      "metadata": {
        "id": "Rco03OVp3u5t"
      },
      "source": [
        "expressive = defaultdict(list)\n",
        "for i, row in enumerate(token_array):\n",
        "  for index, token in tokens:\n",
        "    if row[index]:\n",
        "      expressive[token].append((i, row[index]))\n",
        "\n",
        "\n"
      ],
      "execution_count": 10,
      "outputs": []
    },
    {
      "cell_type": "code",
      "metadata": {
        "id": "i0uSQpvaG4C8"
      },
      "source": [
        "# Allocate empty array for the frequency of the expressive\n",
        "freq = np.zeros_like(text['reviewText'].values)\n",
        "for k, v in expressive.items():\n",
        "  for idx, fr in v:\n",
        "    freq[idx] = float(fr)\n",
        "\n",
        "text['expressiveFreq'] = freq\n",
        "\n",
        "text['expressiveFreq'] = pd.to_numeric(text['expressiveFreq'])\n"
      ],
      "execution_count": 11,
      "outputs": []
    },
    {
      "cell_type": "code",
      "metadata": {
        "id": "N7K5xmWNNmbM"
      },
      "source": [
        "# counting the number of tokens of the dataset per sample\n",
        "\n",
        "text['numTokens'] = text['reviewText'].apply(lambda text:\n",
        "                         len(\n",
        "                            set(\n",
        "                                map(\n",
        "                                  lambda item: item.lower(),\n",
        "                                  text.split(' ')\n",
        "                                  )\n",
        "                                )\n",
        "                            )\n",
        "                         )"
      ],
      "execution_count": 12,
      "outputs": []
    },
    {
      "cell_type": "code",
      "metadata": {
        "id": "_sa2J45GQRD7"
      },
      "source": [
        "text = text[text['expressiveFreq'] != 0]\n",
        "text.dropna(inplace=True)\n",
        "# Calculate the log-odds\n",
        "text['log-odds'] = text[['expressiveFreq', 'numTokens']].apply(\n",
        "    lambda item: np.log(item.expressiveFreq / ((item.numTokens - item.expressiveFreq ))),\n",
        "    axis=1\n",
        ")"
      ],
      "execution_count": 13,
      "outputs": []
    },
    {
      "cell_type": "code",
      "metadata": {
        "id": "XTEniB8Dnvvl"
      },
      "source": [
        "text['log-odds'].replace([np.inf, -np.inf], np.nan, inplace=True)\n",
        "text.dropna(inplace=True)"
      ],
      "execution_count": 14,
      "outputs": []
    },
    {
      "cell_type": "code",
      "metadata": {
        "id": "4ExSSocaUXB_"
      },
      "source": [
        "text_agg = text[text['expressiveFreq'] != 0].groupby(['overall'], as_index=False).mean()"
      ],
      "execution_count": 15,
      "outputs": []
    },
    {
      "cell_type": "code",
      "metadata": {
        "colab": {
          "base_uri": "https://localhost:8080/",
          "height": 204
        },
        "id": "AY81cXe2eO1h",
        "outputId": "2697155f-4e66-496b-dd1c-ad749c828e20"
      },
      "source": [
        "text_agg"
      ],
      "execution_count": 16,
      "outputs": [
        {
          "output_type": "execute_result",
          "data": {
            "text/html": [
              "<div>\n",
              "<style scoped>\n",
              "    .dataframe tbody tr th:only-of-type {\n",
              "        vertical-align: middle;\n",
              "    }\n",
              "\n",
              "    .dataframe tbody tr th {\n",
              "        vertical-align: top;\n",
              "    }\n",
              "\n",
              "    .dataframe thead th {\n",
              "        text-align: right;\n",
              "    }\n",
              "</style>\n",
              "<table border=\"1\" class=\"dataframe\">\n",
              "  <thead>\n",
              "    <tr style=\"text-align: right;\">\n",
              "      <th></th>\n",
              "      <th>overall</th>\n",
              "      <th>index</th>\n",
              "      <th>expressiveFreq</th>\n",
              "      <th>numTokens</th>\n",
              "      <th>log-odds</th>\n",
              "    </tr>\n",
              "  </thead>\n",
              "  <tbody>\n",
              "    <tr>\n",
              "      <th>0</th>\n",
              "      <td>1</td>\n",
              "      <td>297995.636364</td>\n",
              "      <td>1.363636</td>\n",
              "      <td>279.090909</td>\n",
              "      <td>-4.743060</td>\n",
              "    </tr>\n",
              "    <tr>\n",
              "      <th>1</th>\n",
              "      <td>2</td>\n",
              "      <td>180675.500000</td>\n",
              "      <td>1.000000</td>\n",
              "      <td>218.250000</td>\n",
              "      <td>-4.974269</td>\n",
              "    </tr>\n",
              "    <tr>\n",
              "      <th>2</th>\n",
              "      <td>3</td>\n",
              "      <td>187716.041667</td>\n",
              "      <td>1.083333</td>\n",
              "      <td>318.000000</td>\n",
              "      <td>-5.449137</td>\n",
              "    </tr>\n",
              "    <tr>\n",
              "      <th>3</th>\n",
              "      <td>4</td>\n",
              "      <td>196423.647059</td>\n",
              "      <td>1.029412</td>\n",
              "      <td>236.794118</td>\n",
              "      <td>-5.067176</td>\n",
              "    </tr>\n",
              "    <tr>\n",
              "      <th>4</th>\n",
              "      <td>5</td>\n",
              "      <td>217924.078947</td>\n",
              "      <td>1.026316</td>\n",
              "      <td>229.289474</td>\n",
              "      <td>-5.040487</td>\n",
              "    </tr>\n",
              "  </tbody>\n",
              "</table>\n",
              "</div>"
            ],
            "text/plain": [
              "   overall          index  expressiveFreq   numTokens  log-odds\n",
              "0        1  297995.636364        1.363636  279.090909 -4.743060\n",
              "1        2  180675.500000        1.000000  218.250000 -4.974269\n",
              "2        3  187716.041667        1.083333  318.000000 -5.449137\n",
              "3        4  196423.647059        1.029412  236.794118 -5.067176\n",
              "4        5  217924.078947        1.026316  229.289474 -5.040487"
            ]
          },
          "metadata": {},
          "execution_count": 16
        }
      ]
    },
    {
      "cell_type": "code",
      "metadata": {
        "id": "0LK9Fm0ucWGb"
      },
      "source": [
        "# since the data is non-linear we use polynomial regression of degree 5 to regress the points\n",
        "model = make_pipeline(PolynomialFeatures(5), Ridge(alpha=1e-3))\n",
        "model.fit(text_agg['overall'].values.reshape(-1, 1), text_agg['log-odds'].values.reshape(-1, 1))\n",
        "y_pred = model.predict(np.linspace(1, 5, 100).reshape(-1, 1))\n"
      ],
      "execution_count": 17,
      "outputs": []
    },
    {
      "cell_type": "code",
      "metadata": {
        "id": "S4pfCtZAoyvm"
      },
      "source": [
        "model_freq = make_pipeline(PolynomialFeatures(5), Ridge(alpha=1e-3))\n",
        "model_freq.fit(text_agg['overall'].values.reshape(-1, 1), text_agg['expressiveFreq'].values.reshape(-1, 1))\n",
        "y_pred_freq = model_freq.predict(np.linspace(1, 5, 100).reshape(-1, 1))"
      ],
      "execution_count": 18,
      "outputs": []
    },
    {
      "cell_type": "code",
      "metadata": {
        "colab": {
          "base_uri": "https://localhost:8080/",
          "height": 515
        },
        "id": "zDJtqOKcJZx-",
        "outputId": "f9d414e5-04d0-48d4-a9bc-3da38dd7e25b"
      },
      "source": [
        "# Plotting the results\n",
        "\n",
        "fig, axs = plt.subplots(1, 2, figsize=(12, 8))\n",
        "# axs[0].scatter(\n",
        "#     text[text['expressiveFreq'] != 0]['overall'].values,\n",
        "#     text[text['expressiveFreq'] != 0]['expressiveFreq'].values,\n",
        "#     alpha=0.01\n",
        "#     )\n",
        "axs[0].scatter(\n",
        "    text_agg['overall'].values,\n",
        "    text_agg['expressiveFreq'].values\n",
        "    )\n",
        "axs[0].plot(\n",
        "    np.linspace(1, 5, 100),\n",
        "    y_pred_freq,\n",
        "    label='Polynomial (degree=5) regression'\n",
        "    )\n",
        "axs[0].set_xlabel('Rating')\n",
        "axs[0].set_ylabel('Freq')\n",
        "# axs[1].scatter(\n",
        "#     text[text['expressiveFreq'] != 0]['overall'].values,\n",
        "#     text[text['expressiveFreq'] != 0]['log-odds'].values,\n",
        "#     alpha=0.01\n",
        "#     )\n",
        "axs[1].scatter(\n",
        "    text_agg['overall'].values,\n",
        "    text_agg['log-odds'].values\n",
        "    )\n",
        "axs[1].plot(\n",
        "    np.linspace(1, 5, 100),\n",
        "    y_pred,\n",
        "    label='Polynomial (degree=5) regression'\n",
        "    )\n",
        "axs[1].set_xlabel('Rating')\n",
        "axs[1].set_ylabel('log-odds')\n",
        "plt.legend()"
      ],
      "execution_count": 20,
      "outputs": [
        {
          "output_type": "execute_result",
          "data": {
            "text/plain": [
              "<matplotlib.legend.Legend at 0x7f50a392b3d0>"
            ]
          },
          "metadata": {},
          "execution_count": 20
        },
        {
          "output_type": "display_data",
          "data": {
            "image/png": "[encoded data removed]",
            "text/plain": [
              "<Figure size 864x576 with 2 Axes>"
            ]
          },
          "metadata": {
            "needs_background": "light"
          }
        }
      ]
    },
    {
      "cell_type": "code",
      "metadata": {
        "id": "0y-j0LpRKBHj"
      },
      "source": [
        ""
      ],
      "execution_count": null,
      "outputs": []
    }
  ]
}